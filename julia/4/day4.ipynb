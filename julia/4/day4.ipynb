{
 "cells": [
  {
   "cell_type": "markdown",
   "metadata": {},
   "source": [
    "--- Day 4: Secure Container ---\n",
    "\n",
    "You arrive at the Venus fuel depot only to discover it's protected by a password. The Elves had written the password on a sticky note, but someone threw it out.\n",
    "\n",
    "However, they do remember a few key facts about the password:\n",
    "\n",
    "It is a six-digit number.\n",
    "The value is within the range given in your puzzle input.\n",
    "Two adjacent digits are the same (like 22 in 122345).\n",
    "Going from left to right, the digits never decrease; they only ever increase or stay the same (like 111123 or 135679).\n",
    "Other than the range rule, the following are true:\n",
    "\n",
    "111111 meets these criteria (double 11, never decreases).\n",
    "223450 does not meet these criteria (decreasing pair of digits 50).\n",
    "123789 does not meet these criteria (no double).\n",
    "How many different passwords within the range given in your puzzle input meet these criteria?"
   ]
  },
  {
   "cell_type": "code",
   "execution_count": 17,
   "metadata": {},
   "outputs": [
    {
     "name": "stdout",
     "output_type": "stream",
     "text": [
      "true\n",
      "false\n",
      "true\n"
     ]
    }
   ],
   "source": [
    "function rule1(str) \n",
    "    current = 0\n",
    "    for e ∈ str\n",
    "        next = parse(Int,e)\n",
    "        if next < current\n",
    "            return false\n",
    "        end\n",
    "        current=next\n",
    "    end\n",
    "    return true\n",
    "end\n",
    "\n",
    "println(rule1(\"111111\"))\n",
    "println(rule1(\"223450\"))\n",
    "println(rule1(\"123789\"))"
   ]
  },
  {
   "cell_type": "code",
   "execution_count": 18,
   "metadata": {},
   "outputs": [
    {
     "name": "stdout",
     "output_type": "stream",
     "text": [
      "true\n",
      "true\n",
      "false\n"
     ]
    }
   ],
   "source": [
    "function rule2(str) \n",
    "    current = -1\n",
    "    for e ∈ str\n",
    "        next = parse(Int,e)\n",
    "        if next == current\n",
    "            return true\n",
    "        end\n",
    "        current=next\n",
    "    end\n",
    "    return false\n",
    "end\n",
    "\n",
    "println(rule2(\"111111\"))\n",
    "println(rule2(\"223450\"))\n",
    "println(rule2(\"123789\"))"
   ]
  },
  {
   "cell_type": "code",
   "execution_count": 19,
   "metadata": {},
   "outputs": [
    {
     "name": "stdout",
     "output_type": "stream",
     "text": [
      "true\n",
      "false\n",
      "false\n"
     ]
    }
   ],
   "source": [
    "function meets(str)\n",
    "   rule1(str) && rule2(str) \n",
    "end\n",
    "\n",
    "println(meets(\"111111\"))\n",
    "println(meets(\"223450\"))\n",
    "println(meets(\"123789\"))"
   ]
  },
  {
   "cell_type": "code",
   "execution_count": 20,
   "metadata": {},
   "outputs": [
    {
     "data": {
      "text/plain": [
       "594"
      ]
     },
     "execution_count": 20,
     "metadata": {},
     "output_type": "execute_result"
    }
   ],
   "source": [
    "valid = [e for e ∈ 347312:805915 if meets(string(e))]\n",
    "length(valid)"
   ]
  },
  {
   "cell_type": "markdown",
   "metadata": {},
   "source": [
    "--- Part Two ---\n",
    "\n",
    "An Elf just remembered one more important detail: the two adjacent matching digits are not part of a larger group of matching digits.\n",
    "\n",
    "Given this additional criterion, but still ignoring the range rule, the following are now true:\n",
    "\n",
    "112233 meets these criteria because the digits never decrease and all repeated digits are exactly two digits long.\n",
    "123444 no longer meets the criteria (the repeated 44 is part of a larger group of 444).\n",
    "111122 meets the criteria (even though 1 is repeated more than twice, it still contains a double 22).\n",
    "How many different passwords within the range given in your puzzle input meet all of the criteria?"
   ]
  },
  {
   "cell_type": "code",
   "execution_count": 45,
   "metadata": {},
   "outputs": [
    {
     "name": "stdout",
     "output_type": "stream",
     "text": [
      "true\n",
      "false\n",
      "true\n"
     ]
    }
   ],
   "source": [
    "function rule3(str) \n",
    "    dict = Dict()\n",
    "    for e ∈ str\n",
    "      dict[e] = get(dict,e,0) + 1 \n",
    "    end\n",
    "    good = [v for v ∈ values(dict) if v == 2]\n",
    "    return length(good) > 0\n",
    "end\n",
    "\n",
    "println(rule3(\"112233\"))\n",
    "println(rule3(\"123444\"))\n",
    "println(rule3(\"111122\"))"
   ]
  },
  {
   "cell_type": "code",
   "execution_count": 48,
   "metadata": {},
   "outputs": [
    {
     "data": {
      "text/plain": [
       "364"
      ]
     },
     "execution_count": 48,
     "metadata": {},
     "output_type": "execute_result"
    }
   ],
   "source": [
    "meets2(str) = rule1(str) && (rule2(str) && rule3(str))\n",
    "valid = [e for e ∈ 347312:805915 if meets2(string(e))]\n",
    "length(valid)"
   ]
  },
  {
   "cell_type": "code",
   "execution_count": null,
   "metadata": {},
   "outputs": [],
   "source": []
  }
 ],
 "metadata": {
  "kernelspec": {
   "display_name": "Julia 1.5.2",
   "language": "julia",
   "name": "julia-1.5"
  },
  "language_info": {
   "file_extension": ".jl",
   "mimetype": "application/julia",
   "name": "julia",
   "version": "1.5.3"
  }
 },
 "nbformat": 4,
 "nbformat_minor": 4
}
