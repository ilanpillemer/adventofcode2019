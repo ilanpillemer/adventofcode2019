{
 "cells": [
  {
   "cell_type": "markdown",
   "metadata": {},
   "source": [
    "```\n",
    "--- Day 10: Monitoring Station ---\n",
    "\n",
    "You fly into the asteroid belt and reach the Ceres monitoring station. The Elves here have an emergency: they're having trouble tracking all of the asteroids and can't be sure they're safe.\n",
    "\n",
    "The Elves would like to build a new monitoring station in a nearby area of space; they hand you a map of all of the asteroids in that region (your puzzle input).\n",
    "\n",
    "The map indicates whether each position is empty (.) or contains an asteroid (#). The asteroids are much smaller than they appear on the map, and every asteroid is exactly in the center of its marked position. The asteroids can be described with X,Y coordinates where X is the distance from the left edge and Y is the distance from the top edge (so the top-left corner is 0,0 and the position immediately to its right is 1,0).\n",
    "\n",
    "Your job is to figure out which asteroid would be the best place to build a new monitoring station. A monitoring station can detect any asteroid to which it has direct line of sight - that is, there cannot be another asteroid exactly between them. This line of sight can be at any angle, not just lines aligned to the grid or diagonally. The best location is the asteroid that can detect the largest number of other asteroids.\n",
    "\n",
    "For example, consider the following map:\n",
    "\n",
    ".#..#\n",
    ".....\n",
    "#####\n",
    "....#\n",
    "...##\n",
    "The best location for a new monitoring station on this map is the highlighted asteroid at 3,4 because it can detect 8 asteroids, more than any other location. (The only asteroid it cannot detect is the one at 1,0; its view of this asteroid is blocked by the asteroid at 2,2.) All other asteroids are worse locations; they can detect 7 or fewer other asteroids. Here is the number of other asteroids a monitoring station on each asteroid could detect:\n",
    "\n",
    ".7..7\n",
    ".....\n",
    "67775\n",
    "....7\n",
    "...87\n",
    "Here is an asteroid (#) and some examples of the ways its line of sight might be blocked. If there were another asteroid at the location of a capital letter, the locations marked with the corresponding lowercase letter would be blocked and could not be detected:\n",
    "\n",
    "#.........\n",
    "...A......\n",
    "...B..a...\n",
    ".EDCG....a\n",
    "..F.c.b...\n",
    ".....c....\n",
    "..efd.c.gb\n",
    ".......c..\n",
    "....f...c.\n",
    "...e..d..c\n",
    "Here are some larger examples:\n",
    "\n",
    "Best is 5,8 with 33 other asteroids detected:\n",
    "\n",
    "......#.#.\n",
    "#..#.#....\n",
    "..#######.\n",
    ".#.#.###..\n",
    ".#..#.....\n",
    "..#....#.#\n",
    "#..#....#.\n",
    ".##.#..###\n",
    "##...#..#.\n",
    ".#....####\n",
    "Best is 1,2 with 35 other asteroids detected:\n",
    "\n",
    "#.#...#.#.\n",
    ".###....#.\n",
    ".#....#...\n",
    "##.#.#.#.#\n",
    "....#.#.#.\n",
    ".##..###.#\n",
    "..#...##..\n",
    "..##....##\n",
    "......#...\n",
    ".####.###.\n",
    "Best is 6,3 with 41 other asteroids detected:\n",
    "\n",
    ".#..#..###\n",
    "####.###.#\n",
    "....###.#.\n",
    "..###.##.#\n",
    "##.##.#.#.\n",
    "....###..#\n",
    "..#.#..#.#\n",
    "#..#.#.###\n",
    ".##...##.#\n",
    ".....#.#..\n",
    "Best is 11,13 with 210 other asteroids detected:\n",
    "\n",
    ".#..##.###...#######\n",
    "##.############..##.\n",
    ".#.######.########.#\n",
    ".###.#######.####.#.\n",
    "#####.##.#.##.###.##\n",
    "..#####..#.#########\n",
    "####################\n",
    "#.####....###.#.#.##\n",
    "##.#################\n",
    "#####.##.###..####..\n",
    "..######..##.#######\n",
    "####.##.####...##..#\n",
    ".#####..#.######.###\n",
    "##...#.##########...\n",
    "#.##########.#######\n",
    ".####.#.###.###.#.##\n",
    "....##.##.###..#####\n",
    ".#.#.###########.###\n",
    "#.#.#.#####.####.###\n",
    "###.##.####.##.#..##\n",
    "Find the best location for a new monitoring station. How many other asteroids can be detected from that location?\n",
    "\n",
    "Your puzzle answer was 227.\n",
    "```"
   ]
  },
  {
   "cell_type": "code",
   "execution_count": 1,
   "metadata": {},
   "outputs": [
    {
     "data": {
      "text/plain": [
       "5-element Array{String,1}:\n",
       " \".#..#\"\n",
       " \".....\"\n",
       " \"#####\"\n",
       " \"....#\"\n",
       " \"...##\""
      ]
     },
     "execution_count": 1,
     "metadata": {},
     "output_type": "execute_result"
    }
   ],
   "source": [
    "readlines(\"small.txt\")"
   ]
  },
  {
   "cell_type": "code",
   "execution_count": 2,
   "metadata": {},
   "outputs": [
    {
     "data": {
      "text/plain": [
       "(5, 5)"
      ]
     },
     "execution_count": 2,
     "metadata": {},
     "output_type": "execute_result"
    }
   ],
   "source": [
    "using Combinatorics\n",
    "function dims(input)\n",
    "    x = readlines(input)\n",
    "    (length(x[1]),length(x))\n",
    "end\n",
    "dims(\"small.txt\")"
   ]
  },
  {
   "cell_type": "code",
   "execution_count": 3,
   "metadata": {},
   "outputs": [],
   "source": [
    "function asteroids(input)\n",
    "    points = []\n",
    "    y = 0\n",
    "    for i ∈ readlines(input)\n",
    "        x = 0\n",
    "        for j ∈ i\n",
    "           if j == '#'\n",
    "                push!(points,(x,y))\n",
    "            end\n",
    "           x = x + 1\n",
    "        end\n",
    "        y = y + 1\n",
    "    end\n",
    "    points\n",
    "end\n",
    "asteroids(\"small.txt\");"
   ]
  },
  {
   "cell_type": "code",
   "execution_count": 4,
   "metadata": {},
   "outputs": [
    {
     "data": {
      "text/plain": [
       "8"
      ]
     },
     "execution_count": 4,
     "metadata": {},
     "output_type": "execute_result"
    }
   ],
   "source": [
    "# 3,4 can detect 8 asteroids\n",
    "function visible_from(a,x1,y1)\n",
    "    visible = Dict()\n",
    "    for (x,y) ∈ a\n",
    "        if (x,y) == (x1,y1)\n",
    "            continue\n",
    "        end\n",
    "        angle = atan(y-y1,x-x1)\n",
    "        visible[angle] = :star\n",
    "    end\n",
    "    #println(visible)\n",
    "    length(visible)\n",
    "end\n",
    "visible_from(asteroids(\"small.txt\"),3,4)"
   ]
  },
  {
   "cell_type": "code",
   "execution_count": 5,
   "metadata": {},
   "outputs": [],
   "source": [
    "struct Asteroid\n",
    "    visible::Int\n",
    "    pos::Tuple{Int,Int}\n",
    "end"
   ]
  },
  {
   "cell_type": "code",
   "execution_count": 6,
   "metadata": {},
   "outputs": [
    {
     "data": {
      "text/plain": [
       "8"
      ]
     },
     "execution_count": 6,
     "metadata": {},
     "output_type": "execute_result"
    }
   ],
   "source": [
    "as = asteroids(\"small.txt\")\n",
    "zs = []\n",
    "for (x,y) ∈ as\n",
    "  push!(zs,Asteroid(visible_from(asteroids(\"small.txt\"),x,y),(x,y)))  \n",
    "end\n",
    "sort(zs, by = v -> v.visible, rev = true)[1].visible"
   ]
  },
  {
   "cell_type": "code",
   "execution_count": 7,
   "metadata": {},
   "outputs": [
    {
     "data": {
      "text/plain": [
       "Asteroid(227, (11, 13))"
      ]
     },
     "execution_count": 7,
     "metadata": {},
     "output_type": "execute_result"
    }
   ],
   "source": [
    "as = asteroids(\"input.txt\")\n",
    "zs = []\n",
    "for (x,y) ∈ as\n",
    "  push!(zs,Asteroid(visible_from(asteroids(\"input.txt\"),x,y),(x,y)))  \n",
    "end\n",
    "sort(zs, by = v -> v.visible, rev = true)[1]"
   ]
  },
  {
   "cell_type": "code",
   "execution_count": null,
   "metadata": {},
   "outputs": [],
   "source": []
  },
  {
   "cell_type": "markdown",
   "metadata": {},
   "source": [
    "```\n",
    "--- Part Two ---\n",
    "\n",
    "Once you give them the coordinates, the Elves quickly deploy an Instant Monitoring Station to the location and discover the worst: there are simply too many asteroids.\n",
    "\n",
    "The only solution is complete vaporization by giant laser.\n",
    "\n",
    "Fortunately, in addition to an asteroid scanner, the new monitoring station also comes equipped with a giant rotating laser perfect for vaporizing asteroids. The laser starts by pointing up and always rotates clockwise, vaporizing any asteroid it hits.\n",
    "\n",
    "If multiple asteroids are exactly in line with the station, the laser only has enough power to vaporize one of them before continuing its rotation. In other words, the same asteroids that can be detected can be vaporized, but if vaporizing one asteroid makes another one detectable, the newly-detected asteroid won't be vaporized until the laser has returned to the same position by rotating a full 360 degrees.\n",
    "\n",
    "For example, consider the following map, where the asteroid with the new monitoring station (and laser) is marked X:\n",
    "\n",
    ".#....#####...#..\n",
    "##...##.#####..##\n",
    "##...#...#.#####.\n",
    "..#.....X...###..\n",
    "..#.#.....#....##\n",
    "The first nine asteroids to get vaporized, in order, would be:\n",
    "\n",
    ".#....###24...#..\n",
    "##...##.13#67..9#\n",
    "##...#...5.8####.\n",
    "..#.....X...###..\n",
    "..#.#.....#....##\n",
    "Note that some asteroids (the ones behind the asteroids marked 1, 5, and 7) won't have a chance to be vaporized until the next full rotation. The laser continues rotating; the next nine to be vaporized are:\n",
    "\n",
    ".#....###.....#..\n",
    "##...##...#.....#\n",
    "##...#......1234.\n",
    "..#.....X...5##..\n",
    "..#.9.....8....76\n",
    "The next nine to be vaporized are then:\n",
    "\n",
    ".8....###.....#..\n",
    "56...9#...#.....#\n",
    "34...7...........\n",
    "..2.....X....##..\n",
    "..1..............\n",
    "Finally, the laser completes its first full rotation (1 through 3), a second rotation (4 through 8), and vaporizes the last asteroid (9) partway through its third rotation:\n",
    "\n",
    "......234.....6..\n",
    "......1...5.....7\n",
    ".................\n",
    "........X....89..\n",
    ".................\n",
    "In the large example above (the one with the best monitoring station location at 11,13):\n",
    "\n",
    "The 1st asteroid to be vaporized is at 11,12.\n",
    "The 2nd asteroid to be vaporized is at 12,1.\n",
    "The 3rd asteroid to be vaporized is at 12,2.\n",
    "The 10th asteroid to be vaporized is at 12,8.\n",
    "The 20th asteroid to be vaporized is at 16,0.\n",
    "The 50th asteroid to be vaporized is at 16,9.\n",
    "The 100th asteroid to be vaporized is at 10,16.\n",
    "The 199th asteroid to be vaporized is at 9,6.\n",
    "The 200th asteroid to be vaporized is at 8,2.\n",
    "The 201st asteroid to be vaporized is at 10,9.\n",
    "The 299th and final asteroid to be vaporized is at 11,1.\n",
    "The Elves are placing bets on which will be the 200th asteroid to be vaporized. Win the bet by determining which asteroid that will be; what do you get if you multiply its X coordinate by 100 and then add its Y coordinate? (For example, 8,2 becomes 802.)\n",
    "\n",
    "Your puzzle answer was 604.\n",
    "```"
   ]
  },
  {
   "cell_type": "code",
   "execution_count": 211,
   "metadata": {},
   "outputs": [
    {
     "name": "stdout",
     "output_type": "stream",
     "text": [
      "200th: 604\n"
     ]
    }
   ],
   "source": [
    "align_to_cannon(degree) = degree < 90.0 ? degree + 360.0 : degree \n",
    "function all_from(a,x1,y1)\n",
    "    asteroids = Dict{Float64,Array{Tuple{Int64,Int64},1}}()\n",
    "    for (x,y) ∈ a\n",
    "        if (x,y) == (x1,y1)\n",
    "            continue\n",
    "        end\n",
    "        angle = rad2deg(atan(y1-y,x1-x))\n",
    "        angle = align_to_cannon(angle)\n",
    "        current = get(asteroids,angle,[])\n",
    "        push!(current,(y,x))\n",
    "        asteroids[angle] = current\n",
    "    end\n",
    "    asteroids\n",
    "end\n",
    "\n",
    "collected_asteroids = all_from(asteroids(\"input.txt\"),11,13 )\n",
    "keys_sorted_by_degree = sort!(collect(keys(collected_asteroids)))\n",
    "\n",
    "for k ∈ keys_sorted_by_degree  \n",
    "   collected_asteroids[k]=sort(collected_asteroids[k],rev=true)\n",
    "end\n",
    "i=1\n",
    "for k ∈ keys_sorted_by_degree \n",
    "   current = collected_asteroids[k]\n",
    "   if length(current) > 0\n",
    "        if i == 200 \n",
    "            (y,x) = current[1]\n",
    "            println(\"$(i)th: $(100x + y)\")\n",
    "        end\n",
    "        i = i + 1\n",
    "        collected_asteroids[i]=current[2:end]\n",
    "    end\n",
    "end"
   ]
  },
  {
   "cell_type": "code",
   "execution_count": null,
   "metadata": {},
   "outputs": [],
   "source": []
  }
 ],
 "metadata": {
  "@webio": {
   "lastCommId": null,
   "lastKernelId": null
  },
  "kernelspec": {
   "display_name": "Julia 1.5.2",
   "language": "julia",
   "name": "julia-1.5"
  },
  "language_info": {
   "file_extension": ".jl",
   "mimetype": "application/julia",
   "name": "julia",
   "version": "1.5.3"
  }
 },
 "nbformat": 4,
 "nbformat_minor": 4
}
