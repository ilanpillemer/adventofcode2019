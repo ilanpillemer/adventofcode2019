{
 "cells": [
  {
   "cell_type": "markdown",
   "metadata": {},
   "source": [
    "--- Day 5: Sunny with a Chance of Asteroids ---\n",
    "\n",
    "You're starting to sweat as the ship makes its way toward Mercury. The Elves suggest that you get the air conditioner working by upgrading your ship computer to support the Thermal Environment Supervision Terminal.\n",
    "\n",
    "The Thermal Environment Supervision Terminal (TEST) starts by running a diagnostic program (your puzzle input). The TEST diagnostic program will run on your existing Intcode computer after a few modifications:\n",
    "\n",
    "First, you'll need to add two new instructions:\n",
    "\n",
    "Opcode 3 takes a single integer as input and saves it to the position given by its only parameter. For example, the instruction 3,50 would take an input value and store it at address 50.\n",
    "Opcode 4 outputs the value of its only parameter. For example, the instruction 4,50 would output the value at address 50.\n",
    "Programs that use these instructions will come with documentation that explains what should be connected to the input and output. The program 3,0,4,0,99 outputs whatever it gets as input, then halts.\n",
    "\n",
    "Second, you'll need to add support for parameter modes:\n",
    "\n",
    "Each parameter of an instruction is handled based on its parameter mode. Right now, your ship computer already understands parameter mode 0, position mode, which causes the parameter to be interpreted as a position - if the parameter is 50, its value is the value stored at address 50 in memory. Until now, all parameters have been in position mode.\n",
    "\n",
    "Now, your ship computer will also need to handle parameters in mode 1, immediate mode. In immediate mode, a parameter is interpreted as a value - if the parameter is 50, its value is simply 50.\n",
    "\n",
    "Parameter modes are stored in the same value as the instruction's opcode. The opcode is a two-digit number based only on the ones and tens digit of the value, that is, the opcode is the rightmost two digits of the first value in an instruction. Parameter modes are single digits, one per parameter, read right-to-left from the opcode: the first parameter's mode is in the hundreds digit, the second parameter's mode is in the thousands digit, the third parameter's mode is in the ten-thousands digit, and so on. Any missing modes are 0.\n",
    "\n",
    "For example, consider the program 1002,4,3,4,33.\n",
    "\n",
    "The first instruction, 1002,4,3,4, is a multiply instruction - the rightmost two digits of the first value, 02, indicate opcode 2, multiplication. Then, going right to left, the parameter modes are 0 (hundreds digit), 1 (thousands digit), and 0 (ten-thousands digit, not present and therefore zero):\n",
    "\n",
    "```\n",
    "\n",
    "ABCDE\n",
    " 1002\n",
    "\n",
    "DE - two-digit opcode,      02 == opcode 2\n",
    " C - mode of 1st parameter,  0 == position mode\n",
    " B - mode of 2nd parameter,  1 == immediate mode\n",
    " A - mode of 3rd parameter,  0 == position mode,\n",
    "                                  omitted due to being a leading zero\n",
    "\n",
    "```\n",
    "This instruction multiplies its first two parameters. The first parameter, 4 in position mode, works like it did before - its value is the value stored at address 4 (33). The second parameter, 3 in immediate mode, simply has value 3. The result of this operation, 33 * 3 = 99, is written according to the third parameter, 4 in position mode, which also works like it did before - 99 is written to address 4.\n",
    "\n",
    "Parameters that an instruction writes to will never be in immediate mode.\n",
    "\n",
    "\n",
    "Finally, some notes:\n",
    "\n",
    "It is important to remember that the instruction pointer should increase by the number of values in the instruction after the instruction finishes. Because of the new instructions, this amount is no longer always 4.\n",
    "Integers can be negative: 1101,100,-1,4,0 is a valid program (find 100 + -1, store the result in position 4).\n",
    "The TEST diagnostic program will start by requesting from the user the ID of the system to test by running an input instruction - provide it 1, the ID for the ship's air conditioner unit.\n",
    "\n",
    "It will then perform a series of diagnostic tests confirming that various parts of the Intcode computer, like parameter modes, function correctly. For each test, it will run an output instruction indicating how far the result of the test was from the expected value, where 0 means the test was successful. Non-zero outputs mean that a function is not working correctly; check the instructions that were run before the output instruction to see which one failed.\n",
    "\n",
    "Finally, the program will output a diagnostic code and immediately halt. This final output isn't an error; an output followed immediately by a halt means the program finished. If all outputs were zero except the diagnostic code, the diagnostic program ran successfully.\n",
    "\n",
    "After providing 1 to the only input instruction and passing all the tests, what diagnostic code does the program produce?"
   ]
  },
  {
   "cell_type": "code",
   "execution_count": 59,
   "metadata": {},
   "outputs": [],
   "source": [
    "pos(p) = p + 1;\n",
    "ref(a,p) = a[pos(a[pos(p)])]; "
   ]
  },
  {
   "cell_type": "code",
   "execution_count": 60,
   "metadata": {},
   "outputs": [],
   "source": [
    "@enum Op plus=1 mul=2 stor=3 out=4 halt=99\n",
    "@enum Mode posi=0 imm=1\n",
    "\n",
    "struct Operation \n",
    "   op::Op \n",
    "   mode1::Mode\n",
    "   mode2::Mode\n",
    "   mode3::Mode\n",
    "end\n"
   ]
  },
  {
   "cell_type": "code",
   "execution_count": 61,
   "metadata": {},
   "outputs": [
    {
     "name": "stdout",
     "output_type": "stream",
     "text": [
      "2\n",
      "0\n",
      "1\n",
      "0\n"
     ]
    }
   ],
   "source": [
    "println(1002 % 100)\n",
    "println((1002 ÷ 100) % 10)\n",
    "println((1002 ÷ 1000) % 10)\n",
    "println((1002 ÷ 10000) % 10)"
   ]
  },
  {
   "cell_type": "code",
   "execution_count": 62,
   "metadata": {},
   "outputs": [
    {
     "data": {
      "text/plain": [
       "getOps (generic function with 2 methods)"
      ]
     },
     "execution_count": 62,
     "metadata": {},
     "output_type": "execute_result"
    }
   ],
   "source": [
    "getOps(str::String) = getOps(parse(Int,str))\n",
    "function getOps(num)  \n",
    "    \n",
    "        op = Op(num % 100)\n",
    "        mode1 = Mode((num ÷ 100)  % 10)\n",
    "        mode2 = Mode((num ÷ 1000)  % 10)\n",
    "        mode3 = Mode((num ÷ 10000)  % 10)\n",
    "        \n",
    "        Operation(op,mode1,mode2,mode3)\n",
    "end"
   ]
  },
  {
   "cell_type": "code",
   "execution_count": 63,
   "metadata": {},
   "outputs": [
    {
     "data": {
      "text/plain": [
       "Operation(mul, posi, posi, posi)"
      ]
     },
     "execution_count": 63,
     "metadata": {},
     "output_type": "execute_result"
    }
   ],
   "source": [
    "getOps(2)"
   ]
  },
  {
   "cell_type": "code",
   "execution_count": 64,
   "metadata": {},
   "outputs": [
    {
     "data": {
      "text/plain": [
       "Operation(stor, posi, posi, posi)"
      ]
     },
     "execution_count": 64,
     "metadata": {},
     "output_type": "execute_result"
    }
   ],
   "source": [
    "getOps(3)"
   ]
  },
  {
   "cell_type": "code",
   "execution_count": 65,
   "metadata": {},
   "outputs": [
    {
     "data": {
      "text/plain": [
       "Operation(mul, posi, imm, posi)"
      ]
     },
     "execution_count": 65,
     "metadata": {},
     "output_type": "execute_result"
    }
   ],
   "source": [
    "getOps(1002)"
   ]
  },
  {
   "cell_type": "code",
   "execution_count": 66,
   "metadata": {},
   "outputs": [
    {
     "data": {
      "text/plain": [
       "optype (generic function with 1 method)"
      ]
     },
     "execution_count": 66,
     "metadata": {},
     "output_type": "execute_result"
    }
   ],
   "source": [
    "function optype(str::String)\n",
    "    \n",
    "end"
   ]
  },
  {
   "cell_type": "markdown",
   "metadata": {},
   "source": [
    "Opcode 1 adds together numbers read from two positions and stores the result in a third position. The three integers immediately after the opcode tell you these three positions - the first two indicate the positions from which you should read the input values, and the third indicates the position at which the output should be stored.\n",
    "For example, if your Intcode computer encounters 1,10,20,30, it should read the values at positions 10 and 20, add those values, and then overwrite the value at position 30 with their sum.\n",
    "\n",
    "Opcode 2 works exactly like opcode 1, except it multiplies the two inputs instead of adding them. Again, the three integers after the opcode indicate where the inputs and outputs are, not their value"
   ]
  },
  {
   "cell_type": "code",
   "execution_count": 67,
   "metadata": {},
   "outputs": [
    {
     "data": {
      "text/plain": [
       "op2 (generic function with 2 methods)"
      ]
     },
     "execution_count": 67,
     "metadata": {},
     "output_type": "execute_result"
    }
   ],
   "source": [
    "function op1(operation,p,prog) \n",
    "    if operation.mode1 == posi\n",
    "        p1 = ref(prog,p+1)\n",
    "    elseif operation.mode1 == imm\n",
    "        p1 = prog[pos(p+1)]\n",
    "    end  \n",
    "    \n",
    "    if operation.mode2 == posi\n",
    "        p2 = ref(prog,p+2)\n",
    "    elseif operation.mode2 == imm\n",
    "        p2 = prog[pos(p+2)]\n",
    "    end  \n",
    "    \n",
    "    prog[pos(prog[pos(p+3)])] = p1 + p2\n",
    "    p + 4\n",
    "end\n",
    "\n",
    "function op2(operation,p,prog) \n",
    "    if operation.mode1 == posi\n",
    "        p1 = ref(prog,p+1)\n",
    "    elseif operation.mode1 == imm\n",
    "        p1 = prog[pos(p+1)]\n",
    "    end  \n",
    "    \n",
    "    if operation.mode2 == posi\n",
    "        p2 = ref(prog,p+2)\n",
    "    elseif operation.mode2 == imm\n",
    "        p2 = prog[pos(p+2)]\n",
    "    end    \n",
    "    \n",
    "    prog[pos(prog[pos(p+3)])] = p1 * p2\n",
    "    p + 4\n",
    "end\n",
    "\n"
   ]
  },
  {
   "cell_type": "markdown",
   "metadata": {},
   "source": [
    "\n",
    "Opcode 3 takes a single integer as input and saves it to the position given by its only parameter. For example, the instruction 3,50 would take an input value and store it at address 50.\n",
    "\n"
   ]
  },
  {
   "cell_type": "code",
   "execution_count": 210,
   "metadata": {},
   "outputs": [
    {
     "data": {
      "text/plain": [
       "op3 (generic function with 2 methods)"
      ]
     },
     "execution_count": 210,
     "metadata": {},
     "output_type": "execute_result"
    }
   ],
   "source": [
    "function op3(operation,p,prog,input) \n",
    "#    println(\"entering stor \",\"p \",p,\" prog \",prog, \" input \",input)\n",
    "    p1 = prog[pos(p+1)]\n",
    "    #println(\"storage position\",p1)\n",
    "    prog[pos(p1)] = input\n",
    "    #println(\"exiting stor\")  \n",
    "    p + 2\n",
    "end"
   ]
  },
  {
   "cell_type": "markdown",
   "metadata": {},
   "source": [
    "Opcode 4 outputs the value of its only parameter. For example, the instruction 4,50 would output the value at address 50."
   ]
  },
  {
   "cell_type": "code",
   "execution_count": 211,
   "metadata": {},
   "outputs": [
    {
     "data": {
      "text/plain": [
       "op4 (generic function with 1 method)"
      ]
     },
     "execution_count": 211,
     "metadata": {},
     "output_type": "execute_result"
    }
   ],
   "source": [
    "function op4(operation,p,prog) \n",
    "    #println(\"entering out\")     \n",
    "    if operation.mode1 == posi\n",
    "        p1 = ref(prog,p+1)\n",
    "    elseif operation.mode1 == imm\n",
    "        p1 = prog[pos(p+1)]\n",
    "    end  \n",
    "\n",
    "    println(\"output:\",p1)\n",
    "    #println(\"exiting out\")    \n",
    "    p + 2\n",
    "end"
   ]
  },
  {
   "cell_type": "code",
   "execution_count": 212,
   "metadata": {},
   "outputs": [
    {
     "data": {
      "text/plain": [
       "execute (generic function with 2 methods)"
      ]
     },
     "execution_count": 212,
     "metadata": {},
     "output_type": "execute_result"
    }
   ],
   "source": [
    "function execute(op::Operation, p, prog)\n",
    "    if op.op == plus\n",
    "        return op1(op,p,prog)\n",
    "    end\n",
    "    if op.op == mul\n",
    "        return op2(op,p,prog)\n",
    "    end\n",
    "    if op.op == stor\n",
    "        return op3(op,p,prog,1)\n",
    "    end\n",
    "    if op.op == out\n",
    "        return op4(op,p,prog)\n",
    "    end\n",
    "    error(\"panic executing unknown op\")\n",
    "end"
   ]
  },
  {
   "cell_type": "code",
   "execution_count": 213,
   "metadata": {},
   "outputs": [],
   "source": [
    "function execute(prog)\n",
    "    p = 0\n",
    "    op = getOps(prog[pos(p)])\n",
    "    #println(\"op: \", op)\n",
    "    while op.op != halt\n",
    "        #println(prog)\n",
    "        p = execute(op,p,prog)   \n",
    "        #println(\"instruction: \",p, \" -> \",prog[pos(p)])\n",
    "        op = getOps(prog[pos(p)])\n",
    "    end \n",
    "    prog\n",
    "end;"
   ]
  },
  {
   "cell_type": "code",
   "execution_count": 214,
   "metadata": {},
   "outputs": [
    {
     "name": "stdout",
     "output_type": "stream",
     "text": [
      "true\n",
      "true\n",
      "true\n",
      "true\n",
      "true\n"
     ]
    }
   ],
   "source": [
    "println(execute([1,9,10,3,2,3,11,0,99,30,40,50]) == [3500,9,10,70,2,3,11,0,99,30,40,50])\n",
    "println(execute([1,0,0,0,99]) == [2,0,0,0,99])\n",
    "println(execute([2,3,0,3,99]) == [2,3,0,6,99])\n",
    "println(execute([2,4,4,5,99,0]) == [2,4,4,5,99,9801])\n",
    "println(execute([1,1,1,4,99,5,6,0,99]) == [ 30,1,1,4,2,5,6,0,99])"
   ]
  },
  {
   "cell_type": "code",
   "execution_count": 215,
   "metadata": {},
   "outputs": [
    {
     "name": "stdout",
     "output_type": "stream",
     "text": [
      "output:1\n"
     ]
    },
    {
     "data": {
      "text/plain": [
       "5-element Array{Int64,1}:\n",
       "  1\n",
       "  0\n",
       "  4\n",
       "  0\n",
       " 99"
      ]
     },
     "execution_count": 215,
     "metadata": {},
     "output_type": "execute_result"
    }
   ],
   "source": [
    "execute([3,0,4,0,99])"
   ]
  },
  {
   "cell_type": "code",
   "execution_count": 216,
   "metadata": {},
   "outputs": [
    {
     "name": "stdout",
     "output_type": "stream",
     "text": [
      "output:0\n",
      "output:0\n",
      "output:0\n",
      "output:0\n",
      "output:0\n",
      "output:0\n",
      "output:0\n",
      "output:0\n",
      "output:0\n",
      "output:13787043\n"
     ]
    },
    {
     "data": {
      "text/plain": [
       "678×1 Array{Int64,2}:\n",
       "    3\n",
       "  225\n",
       "    1\n",
       "  225\n",
       "    6\n",
       "    6\n",
       " 1101\n",
       "    1\n",
       "  238\n",
       "  225\n",
       "  104\n",
       "    0\n",
       " 1102\n",
       "    ⋮\n",
       "  223\n",
       " 1005\n",
       "  224\n",
       "  674\n",
       " 1001\n",
       "  223\n",
       "    1\n",
       "  223\n",
       "    4\n",
       "  223\n",
       "   99\n",
       "  226"
      ]
     },
     "execution_count": 216,
     "metadata": {},
     "output_type": "execute_result"
    }
   ],
   "source": [
    "using DelimitedFiles\n",
    "prog = readdlm(\"input.txt\", '\\t', Int, ',')\n",
    "execute(prog);\n",
    "# expected output is: 13787043"
   ]
  },
  {
   "cell_type": "markdown",
   "metadata": {},
   "source": [
    "he air conditioner comes online! Its cold air feels good for a while, but then the TEST alarms start to go off. Since the air conditioner can't vent its heat anywhere but back into the spacecraft, it's actually making the air inside the ship warmer.\n",
    "\n",
    "Instead, you'll need to use the TEST to extend the thermal radiators. Fortunately, the diagnostic program (your puzzle input) is already equipped for this. Unfortunately, your Intcode computer is not.\n",
    "\n",
    "Your computer is only missing a few opcodes:\n",
    "\n",
    "```\n",
    "Opcode 5 is jump-if-true: if the first parameter is non-zero, it sets the instruction pointer to the value from the second parameter. Otherwise, it does nothing.\n",
    "\n",
    "Opcode 6 is jump-if-false: if the first parameter is zero, it sets the instruction pointer to the value from the second parameter. Otherwise, it does nothing.\n",
    "\n",
    "Opcode 7 is less than: if the first parameter is less than the second parameter, it stores 1 in the position given by the third parameter. Otherwise, it stores 0.\n",
    "\n",
    "Opcode 8 is equals: if the first parameter is equal to the second parameter, it stores 1 in the position given by the third parameter. Otherwise, it stores 0.\n",
    "\n",
    "Like all instructions, these instructions need to support parameter modes as described above.\n",
    "```\n",
    "\n",
    "Normally, after an instruction is finished, the instruction pointer increases by the number of values in that instruction. However, if the instruction modifies the instruction pointer, that value is used and the instruction pointer is not automatically increased.\n",
    "\n",
    "For example, here are several programs that take one input, compare it to the value 8, and then produce one output:\n",
    "\n",
    "```\n",
    "3,9,8,9,10,9,4,9,99,-1,8 - Using position mode, consider whether the input is equal to 8; output 1 (if it is) or 0 (if it is not).\n",
    "3,9,7,9,10,9,4,9,99,-1,8 - Using position mode, consider whether the input is less than 8; output 1 (if it is) or 0 (if it is not).\n",
    "3,3,1108,-1,8,3,4,3,99 - Using immediate mode, consider whether the input is equal to 8; output 1 (if it is) or 0 (if it is not).\n",
    "3,3,1107,-1,8,3,4,3,99 - Using immediate mode, consider whether the input is less than 8; output 1 (if it is) or 0 (if it is not).\n",
    "Here are some jump tests that take an input, then output 0 if the input was zero or 1 if the input was non-zero:\n",
    "\n",
    "3,12,6,12,15,1,13,14,13,4,13,99,-1,0,1,9 (using position mode)\n",
    "3,3,1105,-1,9,1101,0,0,12,4,12,99,1 (using immediate mode)\n",
    "Here's a larger example:\n",
    "\n",
    "3,21,1008,21,8,20,1005,20,22,107,8,21,20,1006,20,31,\n",
    "1106,0,36,98,0,0,1002,21,125,20,4,20,1105,1,46,104,\n",
    "999,1105,1,46,1101,1000,1,20,4,20,1105,1,46,98,99\n",
    "The above example program uses an input instruction to ask for a single number. The program will then output 999 if the input value is below 8, output 1000 if the input value is equal to 8, or output 1001 if the input value is greater than 8.\n",
    "```\n",
    "\n",
    "This time, when the TEST diagnostic program runs its input instruction to get the ID of the system to test, provide it 5, the ID for the ship's thermal radiator controller. This diagnostic test suite only outputs one number, the diagnostic code.\n",
    "\n",
    "What is the diagnostic code for system ID 5?\n"
   ]
  },
  {
   "cell_type": "code",
   "execution_count": 263,
   "metadata": {},
   "outputs": [
    {
     "data": {
      "text/plain": [
       "op5 (generic function with 1 method)"
      ]
     },
     "execution_count": 263,
     "metadata": {},
     "output_type": "execute_result"
    }
   ],
   "source": [
    "# Opcode 5 is jump-if-true: \n",
    "# if the first parameter is non-zero, \n",
    "# it sets the instruction pointer to the value from the second parameter. \n",
    "# Otherwise, it does nothing.\n",
    "\n",
    "function op5(operation,p,prog) \n",
    "    if operation.mode1 == posi\n",
    "        p1 = ref(prog,p+1)\n",
    "    elseif operation.mode1 == imm\n",
    "        p1 = prog[pos(p+1)]\n",
    "    end  \n",
    "    \n",
    "    if operation.mode2 == posi\n",
    "        p2 = ref(prog,p+2)\n",
    "    elseif operation.mode2 == imm\n",
    "        p2 = prog[pos(p+2)]\n",
    "    end  \n",
    "    \n",
    "    if p1 != 0\n",
    "        return p2\n",
    "    else\n",
    "        return p + 3\n",
    "    end\n",
    "end"
   ]
  },
  {
   "cell_type": "code",
   "execution_count": 264,
   "metadata": {},
   "outputs": [
    {
     "data": {
      "text/plain": [
       "op6 (generic function with 1 method)"
      ]
     },
     "execution_count": 264,
     "metadata": {},
     "output_type": "execute_result"
    }
   ],
   "source": [
    "# Opcode 6 is jump-if-false: \n",
    "# if the first parameter is zero, \n",
    "# it sets the instruction pointer to the value from the second parameter. Otherwise, it does nothing.\n",
    "\n",
    "function op6(operation,p,prog) \n",
    "    if operation.mode1 == posi\n",
    "        p1 = ref(prog,p+1)\n",
    "    elseif operation.mode1 == imm\n",
    "        p1 = prog[pos(p+1)]\n",
    "    end  \n",
    "    \n",
    "    if operation.mode2 == posi\n",
    "        p2 = ref(prog,p+2)\n",
    "    elseif operation.mode2 == imm\n",
    "        p2 = prog[pos(p+2)]\n",
    "    end  \n",
    "    \n",
    "    if p1 == 0\n",
    "        return p2\n",
    "    else\n",
    "        return p + 3\n",
    "    end\n",
    "end"
   ]
  },
  {
   "cell_type": "code",
   "execution_count": 265,
   "metadata": {},
   "outputs": [
    {
     "data": {
      "text/plain": [
       "op7 (generic function with 1 method)"
      ]
     },
     "execution_count": 265,
     "metadata": {},
     "output_type": "execute_result"
    }
   ],
   "source": [
    "# Opcode 7 is less than: \n",
    "# if the first parameter is less than the second parameter, \n",
    "# it stores 1 in the position given by the third parameter. Otherwise, it stores 0.\n",
    "\n",
    "function op7(operation,p,prog) \n",
    "    if operation.mode1 == posi\n",
    "        p1 = ref(prog,p+1)\n",
    "    elseif operation.mode1 == imm\n",
    "        p1 = prog[pos(p+1)]\n",
    "    end  \n",
    "    \n",
    "    if operation.mode2 == posi\n",
    "        p2 = ref(prog,p+2)\n",
    "    elseif operation.mode2 == imm\n",
    "        p2 = prog[pos(p+2)]\n",
    "    end  \n",
    "    \n",
    "    if p1 < p2\n",
    "        prog[pos(prog[pos(p+3)])] = 1\n",
    "    else\n",
    "        prog[pos(prog[pos(p+3)])] = 0\n",
    "    end\n",
    "    p + 4\n",
    "end"
   ]
  },
  {
   "cell_type": "code",
   "execution_count": 266,
   "metadata": {},
   "outputs": [
    {
     "data": {
      "text/plain": [
       "op8 (generic function with 1 method)"
      ]
     },
     "execution_count": 266,
     "metadata": {},
     "output_type": "execute_result"
    }
   ],
   "source": [
    "# Opcode 8 is equals: \n",
    "# if the first parameter is equal to the second parameter, \n",
    "# it stores 1 in the position given by the third parameter. Otherwise, it stores 0.\n",
    "\n",
    "function op8(operation,p,prog) \n",
    "    if operation.mode1 == posi\n",
    "        p1 = ref(prog,p+1)\n",
    "    elseif operation.mode1 == imm\n",
    "        p1 = prog[pos(p+1)]\n",
    "    end  \n",
    "    \n",
    "    if operation.mode2 == posi\n",
    "        p2 = ref(prog,p+2)\n",
    "    elseif operation.mode2 == imm\n",
    "        p2 = prog[pos(p+2)]\n",
    "    end  \n",
    "    \n",
    "    if p1 == p2\n",
    "        prog[pos(prog[pos(p+3)])] = 1\n",
    "    else\n",
    "        prog[pos(prog[pos(p+3)])] = 0\n",
    "    end\n",
    "    p + 4\n",
    "end"
   ]
  },
  {
   "cell_type": "code",
   "execution_count": 267,
   "metadata": {},
   "outputs": [],
   "source": [
    "@enum Op plus=1 mul=2 stor=3 out=4 jnz=5 jez=6 lt=7 eq=8 halt=99\n",
    "@enum Mode posi=0 imm=1\n",
    "\n",
    "struct Operation \n",
    "   op::Op \n",
    "   mode1::Mode\n",
    "   mode2::Mode\n",
    "   mode3::Mode\n",
    "end"
   ]
  },
  {
   "cell_type": "code",
   "execution_count": 268,
   "metadata": {},
   "outputs": [
    {
     "data": {
      "text/plain": [
       "execute (generic function with 4 methods)"
      ]
     },
     "execution_count": 268,
     "metadata": {},
     "output_type": "execute_result"
    }
   ],
   "source": [
    "function execute(op::Operation, p, prog, input)\n",
    "    if op.op == plus\n",
    "        return op1(op,p,prog)\n",
    "    end\n",
    "    if op.op == mul\n",
    "        return op2(op,p,prog)\n",
    "    end\n",
    "    if op.op == stor\n",
    "        return op3(op,p,prog,input)\n",
    "    end\n",
    "    if op.op == out\n",
    "        return op4(op,p,prog)\n",
    "    end\n",
    "    if op.op == jnz\n",
    "        return op5(op,p,prog)\n",
    "    end\n",
    "    if op.op == jez\n",
    "        return op6(op,p,prog)\n",
    "    end   \n",
    "    if op.op == lt\n",
    "        return op7(op,p,prog)\n",
    "    end   \n",
    "    if op.op == eq\n",
    "        return op8(op,p,prog)\n",
    "    end    \n",
    "    \n",
    "    error(\"panic executing unknown op\")\n",
    "end"
   ]
  },
  {
   "cell_type": "code",
   "execution_count": 269,
   "metadata": {},
   "outputs": [
    {
     "data": {
      "text/plain": [
       "execute (generic function with 4 methods)"
      ]
     },
     "execution_count": 269,
     "metadata": {},
     "output_type": "execute_result"
    }
   ],
   "source": [
    "function execute(prog,input)\n",
    "    p = 0\n",
    "    op = getOps(prog[pos(p)])\n",
    "    #println(\"op: \", op)\n",
    "    while op.op != halt\n",
    "        #println(prog)\n",
    "        p = execute(op,p,prog,input)   \n",
    "        #println(\"instruction: \",p, \" -> \",prog[pos(p)])\n",
    "        op = getOps(prog[pos(p)])\n",
    "    end \n",
    "    prog\n",
    "end"
   ]
  },
  {
   "cell_type": "code",
   "execution_count": 273,
   "metadata": {},
   "outputs": [
    {
     "name": "stdout",
     "output_type": "stream",
     "text": [
      "output:1\n",
      "output:0\n",
      "output:1\n",
      "output:0\n",
      "output:1\n",
      "output:0\n",
      "output:1\n",
      "output:0\n",
      "output:0\n",
      "output:1\n",
      "output:0\n",
      "output:1\n"
     ]
    }
   ],
   "source": [
    "execute([3,9,8,9,10,9,4,9,99,-1,8],8); # should output 1 if input == 8 (pos mode)\n",
    "execute([3,9,8,9,10,9,4,9,99,-1,8],9); # should output 0 if input != 8 (pos mode)\n",
    "execute([3,9,7,9,10,9,4,9,99,-1,8],1); # should output 1 if input < 8 (pos mode)\n",
    "execute([3,9,7,9,10,9,4,9,99,-1,8],10); # should output 0 if input > 8 (pos mode)\n",
    "execute([3,3,1108,-1,8,3,4,3,99],8); # should output 1 if input == 8 (imm mode)\n",
    "execute([3,3,1108,-1,8,3,4,3,99],9); # should output 0 if input != 8 (imm mode)\n",
    "execute([3,3,1107,-1,8,3,4,3,99],7); # should output 1 if input < 8 (imm mode)\n",
    "execute([3,3,1107,-1,8,3,4,3,99],9); # should output 0 if input > 8 (imm mode)\n",
    "execute([3,12,6,12,15,1,13,14,13,4,13,99,-1,0,1,9],0); # output 0 if the input was zero (pos mode)\n",
    "execute([3,12,6,12,15,1,13,14,13,4,13,99,-1,0,1,9],1); # output 1 if the input was non-zero (pos mode)\n",
    "execute([3,3,1105,-1,9,1101,0,0,12,4,12,99,1],0); # output 0 if the input was zero (imm mode)\n",
    "execute([3,3,1105,-1,9,1101,0,0,12,4,12,99,1],-1); # output 1 if the input was non-zero (imm mode)"
   ]
  },
  {
   "cell_type": "code",
   "execution_count": 277,
   "metadata": {},
   "outputs": [
    {
     "name": "stdout",
     "output_type": "stream",
     "text": [
      "output:999\n",
      "output:1000\n",
      "output:1001\n"
     ]
    }
   ],
   "source": [
    "# The above example program uses an input instruction to ask for a single number. \n",
    "# The program will then \n",
    "# output 999 if the input value is below 8,\n",
    "# output 1000 if the input value is equal to 8, \n",
    "# or output 1001 if the input value is greater than 8.\n",
    "\n",
    "execute(\n",
    "    [3,21,1008,21,8,20,1005,20,22,107,8,21,20,1006,20,31,\n",
    "1106,0,36,98,0,0,1002,21,125,20,4,20,1105,1,46,104,\n",
    "999,1105,1,46,1101,1000,1,20,4,20,1105,1,46,98,99]\n",
    "    ,-8);\n",
    "\n",
    "execute(\n",
    "    [3,21,1008,21,8,20,1005,20,22,107,8,21,20,1006,20,31,\n",
    "1106,0,36,98,0,0,1002,21,125,20,4,20,1105,1,46,104,\n",
    "999,1105,1,46,1101,1000,1,20,4,20,1105,1,46,98,99]\n",
    "    ,8);\n",
    "\n",
    "execute(\n",
    "    [3,21,1008,21,8,20,1005,20,22,107,8,21,20,1006,20,31,\n",
    "1106,0,36,98,0,0,1002,21,125,20,4,20,1105,1,46,104,\n",
    "999,1105,1,46,1101,1000,1,20,4,20,1105,1,46,98,99]\n",
    "    ,16);"
   ]
  },
  {
   "cell_type": "code",
   "execution_count": 279,
   "metadata": {},
   "outputs": [
    {
     "name": "stdout",
     "output_type": "stream",
     "text": [
      "output:3892695\n"
     ]
    }
   ],
   "source": [
    "using DelimitedFiles\n",
    "prog = readdlm(\"input.txt\", '\\t', Int, ',')\n",
    "execute(prog,5);\n",
    "\n",
    "# should output 3892695"
   ]
  },
  {
   "cell_type": "code",
   "execution_count": null,
   "metadata": {},
   "outputs": [],
   "source": []
  }
 ],
 "metadata": {
  "@webio": {
   "lastCommId": null,
   "lastKernelId": null
  },
  "kernelspec": {
   "display_name": "Julia 1.5.2",
   "language": "julia",
   "name": "julia-1.5"
  },
  "language_info": {
   "file_extension": ".jl",
   "mimetype": "application/julia",
   "name": "julia",
   "version": "1.5.2"
  }
 },
 "nbformat": 4,
 "nbformat_minor": 4
}
